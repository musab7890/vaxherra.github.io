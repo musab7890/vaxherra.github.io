{
 "cells": [
  {
   "cell_type": "markdown",
   "metadata": {},
   "source": [
    "# Anomaly detection with Python\n"
   ]
  },
  {
   "cell_type": "markdown",
   "metadata": {},
   "source": [
    "Suppose we are working as a (clinical) data analyst for some medical organization close to a GP. One day we are given a moderate in size dataset of our patients. Staff has been collecting some six quantifiable features, be it symptoms or tests, that are indicative (to a limited extend) or suggest a **hypothyroidism** - \"a condition in which the thyroid gland doesn't produce enough thyroid hormone\". Data also has labels stating whether patient actually was hypothyroid.  \n",
    "\n",
    "( You can download some example [Thyroid Disease Dataset](http://odds.cs.stonybrook.edu/thyroid-disease-dataset/) available through [Outlier Detection DataSets (ODDS)](http://odds.cs.stonybrook.edu/)) \n",
    "\n",
    "\n",
    "We are not running a thyroid diagnosis and treatement center, but are a part of first contact team. For doctors it would be nice to build some model that detects anomalies in patients, so further efforts might focus on specific organs or targeted diagnostics. Say, patient visits a GP, goes over symptoms and has a set of basic tests and measurements. Given our data we can't really tell whether this patient is or is not hypothyroid, but rather whether there is some significant abnormality in a set of his results that, given small historical data, we may want to send him or her to check specifically for thyroid. \n",
    "\n",
    "\n",
    "Our dataset is relatively small and skewed as most patients do not have hypothyroidis. This limits us directly in using \"state of the art\", everyone's favourite neural net classification system. However we can try working with this data and construct an *anomaly detection system*."
   ]
  },
  {
   "cell_type": "markdown",
   "metadata": {},
   "source": [
    "Anomaly detection is a problem from Machine Learning. Its motivation is simple: given a new example we want to state whether it is coming from the same distribution as the majority of the data we have or not, i.e. is anomalous. This problem is quite different from standard classification examples, as we have disproportionately more negative examples than positive. Here negative and positive are used to indicate accordingly non-anomalous and anomalous.\n",
    "\n",
    "Often gathered datasets are multidimensional, and visualizing them on a plane or in 3D may not be enough. Sure, for exploratory analysis it might be worthwhile to perform dimensionality reduction through PCA, but we need to model appropriately our dataset.\n",
    "\n",
    "\n",
    "The idea is simple. We model each feature of our dataset by a multivariate Gaussian distribution: compute mean ($\\mu$) and variance ($\\sigma^2$). "
   ]
  },
  {
   "cell_type": "markdown",
   "metadata": {},
   "source": [
    "# Exploring our data"
   ]
  },
  {
   "cell_type": "markdown",
   "metadata": {},
   "source": [
    "Before proceeding, make sure we have necessary packages:\n",
    "- Scipy\n",
    "- Numpy\n",
    "- Matplotlib\n",
    "- Pyplot (optional; for later visualizations)"
   ]
  },
  {
   "cell_type": "code",
   "execution_count": 143,
   "metadata": {},
   "outputs": [],
   "source": [
    "import numpy as np\n",
    "import scipy.io,scipy.stats,scipy"
   ]
  },
  {
   "cell_type": "markdown",
   "metadata": {},
   "source": [
    "## Download and load given dataset"
   ]
  },
  {
   "cell_type": "markdown",
   "metadata": {},
   "source": [
    "Now we can download [Thyroid Disease Dataset](http://odds.cs.stonybrook.edu/thyroid-disease-dataset/) available through [Outlier Detection DataSets (ODDS)](http://odds.cs.stonybrook.edu/):"
   ]
  },
  {
   "cell_type": "code",
   "execution_count": 1,
   "metadata": {},
   "outputs": [
    {
     "name": "stdout",
     "output_type": "stream",
     "text": [
      "--2018-05-08 19:18:11--  https://www.dropbox.com/s/bih0e15a0fukftb/thyroid.mat\n",
      "Resolving www.dropbox.com (www.dropbox.com)... 162.125.8.1, 2620:100:601b:1::a27d:801\n",
      "Connecting to www.dropbox.com (www.dropbox.com)|162.125.8.1|:443... connected.\n",
      "HTTP request sent, awaiting response... 302 Found\n",
      "Location: https://dl.dropboxusercontent.com/content_link/mw9IJMmNXNgAIknfNcd0qWCb7R7UWT4yk7mND0bmo4Silygx37N33NlycMzq4KcJ/file [following]\n",
      "--2018-05-08 19:18:12--  https://dl.dropboxusercontent.com/content_link/mw9IJMmNXNgAIknfNcd0qWCb7R7UWT4yk7mND0bmo4Silygx37N33NlycMzq4KcJ/file\n",
      "Resolving dl.dropboxusercontent.com (dl.dropboxusercontent.com)... 162.125.8.6, 2620:100:6018:6::a27d:306\n",
      "Connecting to dl.dropboxusercontent.com (dl.dropboxusercontent.com)|162.125.8.6|:443... connected.\n",
      "HTTP request sent, awaiting response... 200 OK\n",
      "Length: 39704 (39K) [application/octet-stream]\n",
      "Saving to: ‘thyroid.mat’\n",
      "\n",
      "thyroid.mat         100%[===================>]  38.77K  --.-KB/s    in 0.02s   \n",
      "\n",
      "2018-05-08 19:18:13 (1.68 MB/s) - ‘thyroid.mat’ saved [39704/39704]\n",
      "\n"
     ]
    }
   ],
   "source": [
    "!wget https://www.dropbox.com/s/bih0e15a0fukftb/thyroid.mat"
   ]
  },
  {
   "cell_type": "markdown",
   "metadata": {},
   "source": [
    "Then we need to load a $.mat$ file specific for a MATLAB/Octave environment."
   ]
  },
  {
   "cell_type": "code",
   "execution_count": 144,
   "metadata": {},
   "outputs": [
    {
     "name": "stdout",
     "output_type": "stream",
     "text": [
      "Data set sizes: \n",
      " input X: (3772, 6) \n",
      " labels y: (3772,) \n"
     ]
    }
   ],
   "source": [
    "data = scipy.io.loadmat('thyroid.mat')\n",
    "X=data['X']\n",
    "y=data['y']\n",
    "y=y.flatten()\n",
    "y=y.astype(int)\n",
    "print('Data set sizes: \\n input X: %s \\n labels y: %s ' % ( str(np.shape(X)),str(np.shape(y)) ))"
   ]
  },
  {
   "cell_type": "markdown",
   "metadata": {},
   "source": [
    "Our data has 3772 patients. We have $\\hat y$ labels $\\in \\{0,1\\}$ and features. \n",
    "\n",
    "$$ X = \\{ (x^{n}_1, y_1), ... , (x^{n}_m, y_m)    \\}    $$\n",
    "\n"
   ]
  },
  {
   "cell_type": "markdown",
   "metadata": {},
   "source": [
    "## Check basic characteristics"
   ]
  },
  {
   "cell_type": "code",
   "execution_count": 145,
   "metadata": {},
   "outputs": [
    {
     "data": {
      "text/plain": [
       "(array([0, 1]), array([3679,   93]))"
      ]
     },
     "execution_count": 145,
     "metadata": {},
     "output_type": "execute_result"
    }
   ],
   "source": [
    "classes = np.unique(y,return_counts=True) # we make sure we have only two labels\n",
    "classes"
   ]
  },
  {
   "cell_type": "markdown",
   "metadata": {},
   "source": [
    "We know that labels either contain zero or one. We now know that we have 3679 negative examples (normal, healthy people) and 93 hypothyroid patients. The hyperfunction class is treated as outlier class (1) and the rest are inliers (0). This is because hyperfunction is a clear minority class. \n",
    "\n",
    "This is where we clearly see that classes are skewed. The overwhelming majority..."
   ]
  },
  {
   "cell_type": "code",
   "execution_count": 146,
   "metadata": {},
   "outputs": [
    {
     "data": {
      "text/plain": [
       "97.5"
      ]
     },
     "execution_count": 146,
     "metadata": {},
     "output_type": "execute_result"
    }
   ],
   "source": [
    "round(classes[1][0]/sum(classes[1][:])*100,1)"
   ]
  },
  {
   "cell_type": "markdown",
   "metadata": {},
   "source": [
    "97.5% are negative classes (healthy), the remaining 2.5% are positive classes (hyperfunction). \n",
    "\n",
    "(*It is worth noticing that the dataset description on [ODDS](http://odds.cs.stonybrook.edu/thyroid-disease-dataset/) states that `healthy` actually refers to a mix of two classes, normal functioning thyroid and some hyperfunction. We are clearly limited here by the nature of this dataset, however still can successfully construct a model  *)"
   ]
  },
  {
   "cell_type": "markdown",
   "metadata": {},
   "source": [
    "## Splitting dataset\n",
    "\n",
    "Before proceeding with model building we need to reasonably split the dataset for training, cross-validation and model testing. The surprising idea is that for model training we use only negative examples. Since we want to model each feature with Gaussian distribution, it would be appropriate to `train` our model on negative examples, and use a smaller portion of positive examples for hyperparameter tuning ($\\epsilon$) and model testing. \n",
    "\n",
    "Table below shows how one might approach it:"
   ]
  },
  {
   "cell_type": "markdown",
   "metadata": {},
   "source": [
    "|Sets | # Negative examples | # Positive examples | \n",
    "| ---| --- | --- |\n",
    "| Train set| 2999 | 0 |\n",
    "| Cross-validation set| 340 | 46 |\n",
    "| Test set| 340 | 47 |\n",
    "\n"
   ]
  },
  {
   "cell_type": "markdown",
   "metadata": {},
   "source": [
    "Below is just a very simple code. `For` loop could be used since in this example we are not dealing with \"Big Data\", and can easily work on a local machine: "
   ]
  },
  {
   "cell_type": "code",
   "execution_count": 147,
   "metadata": {},
   "outputs": [],
   "source": [
    "X_positives=[] # the minority of data - hypothyroid patients\n",
    "Y_positives=[]\n",
    "X_negatives=[] # the majority of data - healthy subjects\n",
    "Y_negatives=[] \n",
    "\n",
    "\n",
    "# Loop over dataset and split 'negatives' and 'positives' accordingly\n",
    "\n",
    "for i in range(0, X.shape[0]):\n",
    "    if y[i]==0: \n",
    "        X_negatives.append(X[i])\n",
    "        Y_negatives.append(y[i])\n",
    "    elif y[i]==1:\n",
    "        X_positives.append(X[i])\n",
    "        Y_positives.append(y[i])\n",
    "    else:\n",
    "        print(\"Labelling error occured\")\n",
    "        \n",
    "        \n",
    "# Subset dataset according to a table above\n",
    "X_train = X_negatives[:2999]\n",
    "Y_train = Y_negatives[:2999]\n",
    "\n",
    "X_CV = X_negatives[2999:(2999+340)] + X_positives[:46]\n",
    "Y_CV = Y_negatives[2999:(2999+340)] + Y_positives[:46]\n",
    "\n",
    "X_test= X_negatives[2999+340:] +  X_positives[46:]\n",
    "Y_test= Y_negatives[2999+340:] + Y_positives[46:]\n",
    "\n",
    "####\n",
    "\n",
    "# Convert from lists to numpy arrays\n",
    "X_train = np.asarray(X_train)\n",
    "Y_train = np.asarray(Y_train)\n",
    "\n",
    "X_CV = np.asarray(X_CV)\n",
    "Y_CV = np.asarray(Y_CV)\n",
    "\n",
    "X_test = np.asarray(X_test)\n",
    "Y_test = np.asarray(Y_test)"
   ]
  },
  {
   "cell_type": "code",
   "execution_count": 148,
   "metadata": {},
   "outputs": [
    {
     "data": {
      "text/plain": [
       "True"
      ]
     },
     "execution_count": 148,
     "metadata": {},
     "output_type": "execute_result"
    }
   ],
   "source": [
    "# Make sure that lenghts of our datasets 'add up'\n",
    "X.shape[0] == len(X_train)+ len(X_CV)+len(X_test)"
   ]
  },
  {
   "cell_type": "code",
   "execution_count": 149,
   "metadata": {},
   "outputs": [
    {
     "data": {
      "text/plain": [
       "True"
      ]
     },
     "execution_count": 149,
     "metadata": {},
     "output_type": "execute_result"
    }
   ],
   "source": [
    "# Make sure that lenghts of our datasets 'add up'\n",
    "y.shape[0] == len(Y_train)+ len(Y_CV)+len(Y_test)"
   ]
  },
  {
   "cell_type": "markdown",
   "metadata": {},
   "source": [
    "Good, our detaset is in a good shape for train, validation and final accuracy measures. "
   ]
  },
  {
   "cell_type": "markdown",
   "metadata": {},
   "source": [
    "# Building a model"
   ]
  },
  {
   "cell_type": "markdown",
   "metadata": {},
   "source": [
    "As stated in the beginning the idea here is very simple. We model the distribution of our data (from training set) by Gaussian distribution. For this we need to compute mean $\\mu^i$ and variance $\\sigma^i$ for each feature $i$. We can do it easily operating on matrices - i.e. *vectorized implementation*. \n",
    "\n"
   ]
  },
  {
   "cell_type": "code",
   "execution_count": 150,
   "metadata": {},
   "outputs": [],
   "source": [
    "MU = np.mean(X_train,axis=0)\n",
    "SIGMA2= np.var(X_train,axis=0) #Squared sigma - variance"
   ]
  },
  {
   "cell_type": "code",
   "execution_count": 151,
   "metadata": {},
   "outputs": [
    {
     "name": "stdout",
     "output_type": "stream",
     "text": [
      "(6,) (6,)\n"
     ]
    }
   ],
   "source": [
    "print(MU.shape,SIGMA2.shape) # for each feature we have appropriate mean and variance."
   ]
  },
  {
   "cell_type": "markdown",
   "metadata": {},
   "source": [
    "# Selecting threshold $\\epsilon$"
   ]
  },
  {
   "cell_type": "markdown",
   "metadata": {},
   "source": [
    "Here is the main idea of the basic 'anomaly detection system'. Having computed mean and variance for a training set for each of the features, we can now compute probability for a given example. If this probability is 'low' we flag it as anomaly, if the computed probability is 'high' we determine that this example is non-anomalous. \n",
    "\n",
    "We compute probability for a given example $x^{i}$ by:\n",
    "\n",
    "$$ f_x(x^{i}_1,...,x^{i}_n) = \\frac{exp(-\\frac{1}{2}(x-\\mu)^T \\Sigma^{-1}(x-\\mu)} {\\sqrt{2\\pi^n \\cdot |\\Sigma|} }   $$\n",
    "\n",
    "where:\n",
    "- $\\Sigma $ - covariance matrix\n",
    "- $ |\\Sigma| $ - determinant of covariance matrix\n",
    "- $\\mu$ - vector of mean values of each feature in a dataset\n",
    "- $\\Sigma$ - vector of variances of each feature in a dataset\n",
    "- $n$ - number of features\n",
    "\n",
    "\n",
    "However how to tell what probability is 'low enough' for a given example to be flagged as anomalous? Here we can use our cross-validation set that has some positive (anomalous) examples. "
   ]
  },
  {
   "cell_type": "markdown",
   "metadata": {},
   "source": [
    "The first step involves computing the probabilities, or rather a vector of probabilities for each example and for each feature. We can use scipy implementation like this:"
   ]
  },
  {
   "cell_type": "code",
   "execution_count": 152,
   "metadata": {},
   "outputs": [],
   "source": [
    "from scipy.stats import multivariate_normal\n",
    "PDF = multivariate_normal.pdf(X_CV,mean=MU, cov=np.diag(SIGMA2))"
   ]
  },
  {
   "cell_type": "markdown",
   "metadata": {},
   "source": [
    "Here we compute PDF (Probability Density Function), that is just an integral over the values of the distribution up to a given $X_{CV}$ point. \n",
    "\n",
    "The next step is to write a function that takes your $\\hat{y}_{CV}$ labels and $PDF$ estimates for $X_{CV}$ and selects a threshold $\\epsilon$. \n",
    "\n",
    "This $\\epsilon$ would be a threshold probability below which given example would be categorized as anomalous. To pick this best $\\epsilon$ we'd iteratively loop over some range of possible values, from $min(PDF)$ to $max(PDF)$, with a specified step or number of in-between values. For each this $\\epsilon$ we'de compute $F1$ score defined by precision and recall (check [wikipedia](https://en.wikipedia.org/wiki/Precision_and_recall) for more explainations).\n",
    "\n"
   ]
  },
  {
   "cell_type": "code",
   "execution_count": 153,
   "metadata": {},
   "outputs": [],
   "source": [
    "def SelectThreshold(Y_CV,PDF,linespacing=2500):\n",
    "    \n",
    "    assert(len(Y_CV)==len(PDF))\n",
    "    \n",
    "    bestEpsilon = 0\n",
    "    bestF1 = 0\n",
    "    F1 = 0\n",
    "\n",
    "    for epsilon in np.linspace(min(PDF),max(PDF),num=linespacing): #num - number of steps\n",
    "\n",
    "        # Y_CV says it's an anomaly and so algorithm does.\n",
    "        tp = sum((Y_CV==1) & (PDF < epsilon)) # True Positives\n",
    "        \n",
    "        # Y_CV says it's not an anomaly,  but algorithm says anomaly.\n",
    "        fp = sum((Y_CV==0) & (PDF<epsilon)) # FALSE POSITIVES\n",
    "        \n",
    "        #Y_CV says it's an anomaly,  but algorithm says not anomaly.\n",
    "        fn = sum((Y_CV==1) & (PDF>=epsilon))\n",
    "        \n",
    "    \n",
    "        # precision and recall\n",
    "        prec = tp/(tp+fp)\n",
    "        rec = tp/(tp+fn)\n",
    "\n",
    "        # F1 value;\n",
    "        F1 = (2*prec*rec)/(prec+rec)\n",
    "        \n",
    "        if (F1 > bestF1):\n",
    "\n",
    "            bestF1 = F1\n",
    "            bestEpsilon = epsilon\n",
    "\n",
    "    return bestEpsilon, bestF1"
   ]
  },
  {
   "cell_type": "code",
   "execution_count": 154,
   "metadata": {},
   "outputs": [
    {
     "name": "stderr",
     "output_type": "stream",
     "text": [
      "/home/robert_kwapich/miniconda3/envs/ML/lib/python3.6/site-packages/ipykernel_launcher.py:22: RuntimeWarning:\n",
      "\n",
      "invalid value encountered in long_scalars\n",
      "\n"
     ]
    },
    {
     "data": {
      "text/plain": [
       "(124.91548113494866, 0.7678571428571428)"
      ]
     },
     "execution_count": 154,
     "metadata": {},
     "output_type": "execute_result"
    }
   ],
   "source": [
    "bestEpsilon, bestF1 = SelectThreshold(Y_CV,PDF)\n",
    "bestEpsilon, bestF1"
   ]
  },
  {
   "cell_type": "markdown",
   "metadata": {},
   "source": [
    "From above we see two values:\n",
    "\n",
    "1. $bestEpsilon$ - contains the value estimated to perform best on a cross-validation dataset.  \n",
    "2. $bestF1$ - contains the best F1 score achieved for this problem. \n",
    "\n",
    "As we can see, the value is $\\approx 0.77$, which is not outstanding in general, but given the skewed data, it is still good. However, since we 'hand-picked' this value on cross-validation set, it is not a reliable measure of our model. We need to test it on the thirds withheld dataset - the test set."
   ]
  },
  {
   "cell_type": "markdown",
   "metadata": {},
   "source": [
    "# Testing model"
   ]
  },
  {
   "cell_type": "markdown",
   "metadata": {},
   "source": [
    "Having picked the best suiting $\\epsilon$ we can now validate the model. The same reasoning follows: we compute F1 Score, precision, recall but this time on test set."
   ]
  },
  {
   "cell_type": "code",
   "execution_count": 341,
   "metadata": {},
   "outputs": [
    {
     "data": {
      "text/plain": [
       "0.7258064516129032"
      ]
     },
     "execution_count": 341,
     "metadata": {},
     "output_type": "execute_result"
    }
   ],
   "source": [
    "TEST_PDF = multivariate_normal.pdf(X_test,mean=MU, cov=np.diag(SIGMA2))\n",
    "# Y_test says it's an anomaly and so algorithm does.\n",
    "tp = sum((Y_test==1) & (TEST_PDF < bestEpsilon)) # True Positives\n",
    "\n",
    "# Y_test says it's not an anomaly,  but algorithm says anomaly.\n",
    "fp = sum((Y_test==0) & (TEST_PDF<bestEpsilon)) # FALSE POSITIVES\n",
    "\n",
    "# Y_test says it's an anomaly,  but algorithm says not anomaly.\n",
    "fn = sum((Y_test==1) & (TEST_PDF>=bestEpsilon))\n",
    "\n",
    "\n",
    "# precision and recall\n",
    "prec = tp/(tp+fp)\n",
    "rec = tp/(tp+fn)\n",
    "\n",
    "# F1 value;\n",
    "F1 = (2*prec*rec)/(prec+rec)\n",
    "\n",
    "F1"
   ]
  },
  {
   "cell_type": "code",
   "execution_count": 157,
   "metadata": {},
   "outputs": [
    {
     "data": {
      "text/plain": [
       "0.5844155844155844"
      ]
     },
     "execution_count": 157,
     "metadata": {},
     "output_type": "execute_result"
    }
   ],
   "source": [
    "prec"
   ]
  },
  {
   "cell_type": "code",
   "execution_count": 158,
   "metadata": {},
   "outputs": [
    {
     "data": {
      "text/plain": [
       "0.9574468085106383"
      ]
     },
     "execution_count": 158,
     "metadata": {},
     "output_type": "execute_result"
    }
   ],
   "source": [
    "rec"
   ]
  },
  {
   "cell_type": "markdown",
   "metadata": {},
   "source": [
    "So our model has $F1\\approx0.73$. This is not ideal, however given the dataset and the scope of its future use (suggesting not correctly classifying, as we clearly do not have enough data for classification), it is good."
   ]
  },
  {
   "cell_type": "markdown",
   "metadata": {},
   "source": [
    "Bear in mind that predicting $y=0$ all the time for such a skewed dataset would yield a high *'accuracy'*. As we'd only classify wrongly 93 out of 3772 and that would give us **97.53%** accuracy. And of course, this is not a solution. We do want to catch some anomalies if they likely occur. We'd be more happy even if we traded some of the precision for a recall."
   ]
  },
  {
   "cell_type": "markdown",
   "metadata": {},
   "source": [
    "Our model has high recall, which mean we very well identify all anomalies. So we are \"good\" at catching anomalies in patients when they occur, however when you look at our precision score, it low. Precision essentially measures how well (precisely) our model identifies anomalies. I.e. our low score indicates that model will produce an \"alert\" even is some patient might not be hypothyroid.\n",
    "\n",
    "#### Is this good? \n",
    "\n",
    "Given the skewed dataset, and serious lack of *positive* examples I'd say it is helpful. When a new patients comes in, we perform a given set of basic tests, and a model predicts that he or she *might be* hypothyroid, we just sent this patient for a detailed set of tests that are more *precise* (or *sensitive*). This is not a serious decision on performing a complicated operation relying on our system. But at the same time we make sure that we are catching $\\approx 96\\%$ of anomalies, as our *recall* score indicates. \n",
    "\n",
    "Oftentimes building a model and estimating *accuracy* is not enough. We have to analyze the nature of the problem, nature of given data. Here, a simple overview of precision, recall and F1 score gave us insight and model interpretation."
   ]
  },
  {
   "cell_type": "markdown",
   "metadata": {},
   "source": [
    "# Making a prediciton"
   ]
  },
  {
   "cell_type": "markdown",
   "metadata": {},
   "source": [
    "Finally, we can of course take the model and apply it to our data. Making a prediciton is easy, you flag an example as anomalous if $ PDF[Example] < Epsilon$, otherwise the prediction says is a normal example.\n",
    "\n",
    "\n",
    "Let's use some examples from the *test* set."
   ]
  },
  {
   "cell_type": "code",
   "execution_count": 159,
   "metadata": {},
   "outputs": [],
   "source": [
    "good_example = multivariate_normal.pdf(X_negatives[-1],mean=MU, cov=np.diag(SIGMA2))\n",
    "anomalous_example = multivariate_normal.pdf(X_positives[-1],mean=MU, cov=np.diag(SIGMA2))"
   ]
  },
  {
   "cell_type": "code",
   "execution_count": 160,
   "metadata": {},
   "outputs": [
    {
     "name": "stdout",
     "output_type": "stream",
     "text": [
      "Non-anomalous Example Predicted as non-anomalous. \n"
     ]
    }
   ],
   "source": [
    "if good_example>bestEpsilon:\n",
    "    print(\"Non-anomalous Example Predicted as non-anomalous. \")\n",
    "    "
   ]
  },
  {
   "cell_type": "code",
   "execution_count": 161,
   "metadata": {},
   "outputs": [
    {
     "name": "stdout",
     "output_type": "stream",
     "text": [
      "Anomalous example Predicted as anomalous\n"
     ]
    }
   ],
   "source": [
    "if anomalous_example<bestEpsilon:\n",
    "    print(\"Anomalous example Predicted as anomalous\")\n",
    "    "
   ]
  },
  {
   "cell_type": "markdown",
   "metadata": {},
   "source": [
    "# Visualizations"
   ]
  },
  {
   "cell_type": "markdown",
   "metadata": {},
   "source": [
    "Given high dimensionality of our dataset visualizing it is not a straightforward procedure. Sure, you can take first two features and plot, but this visualization would omit the rest of the features. The solution in [Principal component analysis (PCA)](https://en.wikipedia.org/wiki/Principal_component_analysis), which I won't describe here in detail. \n",
    "\n",
    "The key idea is that we can *reduce dimensionality* of our dataset while retaining some substantial part of variance in the data. As some features in our data might highly correlate (i.e. might be redundant), i.e. BMI and height, they can be represented by an arbitrary one number. \n",
    "\n",
    "Before proceeding with PCA we need to perform *feature normalization*: from a dataset subtract mean and divide by variance:"
   ]
  },
  {
   "cell_type": "markdown",
   "metadata": {},
   "source": [
    "## PCA\n",
    "\n",
    "### Feature normnalization\n",
    "\n",
    "We normalize the entire dataset by the means of substracting mean and dividing by variance:\n",
    "\n",
    "$$X:= \\frac{X-\\mu}{\\sigma^2}$$"
   ]
  },
  {
   "cell_type": "code",
   "execution_count": 162,
   "metadata": {},
   "outputs": [
    {
     "data": {
      "text/plain": [
       "(6,)"
      ]
     },
     "execution_count": 162,
     "metadata": {},
     "output_type": "execute_result"
    }
   ],
   "source": [
    "MU_all = np.mean(X,axis=0)\n",
    "MU_all.shape "
   ]
  },
  {
   "cell_type": "code",
   "execution_count": 163,
   "metadata": {},
   "outputs": [
    {
     "data": {
      "text/plain": [
       "(6,)"
      ]
     },
     "execution_count": 163,
     "metadata": {},
     "output_type": "execute_result"
    }
   ],
   "source": [
    "SIGMA2_all= np.var(X,axis=0) #Squared sigma - variance\n",
    "SIGMA2_all.shape"
   ]
  },
  {
   "cell_type": "code",
   "execution_count": 164,
   "metadata": {},
   "outputs": [],
   "source": [
    "X_norm_all = (X - MU_all ) / SIGMA2_all"
   ]
  },
  {
   "cell_type": "code",
   "execution_count": 165,
   "metadata": {},
   "outputs": [],
   "source": [
    "m = X_norm_all.shape[0] #number of examples"
   ]
  },
  {
   "cell_type": "markdown",
   "metadata": {},
   "source": [
    "### Covariance matrix and eigenvectors"
   ]
  },
  {
   "cell_type": "markdown",
   "metadata": {},
   "source": [
    "The standard procedure is to compute a covariance matrix $\\Sigma = \\frac{1}{m} \\Sigma^{n}_{i=1} x^{(i)}(x^{(i)})^T$."
   ]
  },
  {
   "cell_type": "code",
   "execution_count": 166,
   "metadata": {},
   "outputs": [],
   "source": [
    "Covariance_Matrix = (1/m)* np.cov(np.transpose(X_norm_all))"
   ]
  },
  {
   "cell_type": "code",
   "execution_count": 167,
   "metadata": {},
   "outputs": [
    {
     "data": {
      "text/plain": [
       "(6, 6)"
      ]
     },
     "execution_count": 167,
     "metadata": {},
     "output_type": "execute_result"
    }
   ],
   "source": [
    "Covariance_Matrix.shape"
   ]
  },
  {
   "cell_type": "markdown",
   "metadata": {},
   "source": [
    "The next step is to use an 'SVD' function. SVD stands for Singular Value Decomposition. I won't go into details, but here we just need eigenvector $U$ of a matrix $\\Sigma$ (covariance matrix). This is fortunately implemented in numpy"
   ]
  },
  {
   "cell_type": "code",
   "execution_count": 168,
   "metadata": {},
   "outputs": [],
   "source": [
    "u, s, vh = np.linalg.svd(Covariance_Matrix, full_matrices=True)"
   ]
  },
  {
   "cell_type": "code",
   "execution_count": 169,
   "metadata": {},
   "outputs": [
    {
     "data": {
      "text/plain": [
       "(6, 6)"
      ]
     },
     "execution_count": 169,
     "metadata": {},
     "output_type": "execute_result"
    }
   ],
   "source": [
    "u.shape"
   ]
  },
  {
   "cell_type": "markdown",
   "metadata": {},
   "source": [
    "### Reducing to K-dimensions"
   ]
  },
  {
   "cell_type": "markdown",
   "metadata": {},
   "source": [
    "We want to reduce $N$ dimensions of our dataset to $K$ dimensions, where $K\\leq N$. \n",
    "\n",
    "This is simply done by subsetting our eigenvector matrix $U$. Our \"reduced\" values would be stored in a new variable $Z$ of shape $(m,K)$, where $m$ - number of examples in our dataset $K$ - new, reduced dimensionality:"
   ]
  },
  {
   "cell_type": "code",
   "execution_count": 180,
   "metadata": {},
   "outputs": [
    {
     "data": {
      "text/plain": [
       "(3772, 2)"
      ]
     },
     "execution_count": 180,
     "metadata": {},
     "output_type": "execute_result"
    }
   ],
   "source": [
    "K=2\n",
    "u_reduce = u[:,:K]\n",
    "Z = np.zeros((X_norm_all.shape[0],K))\n",
    "Z.shape"
   ]
  },
  {
   "cell_type": "markdown",
   "metadata": {},
   "source": [
    "Multiplying our reduced matrix `U_reduce` by each example gives us its reduced representation:"
   ]
  },
  {
   "cell_type": "code",
   "execution_count": 181,
   "metadata": {},
   "outputs": [],
   "source": [
    "for i in range(0,X_norm_all.shape[0]): #going over each example and reducing the dimensionality\n",
    "    Z[i,:] = np.dot(u_reduce.T,X_norm_all[i])\n",
    "    \n",
    "X1_points= Z[:,0]\n",
    "X2_points=Z[:,1]"
   ]
  },
  {
   "cell_type": "markdown",
   "metadata": {},
   "source": [
    "We can now proceed to plot our points on a 2D plane. Our truth $\\hat{y}$ labels are helpful in labeling."
   ]
  },
  {
   "cell_type": "code",
   "execution_count": 173,
   "metadata": {},
   "outputs": [
    {
     "data": {
      "text/plain": [
       "<matplotlib.collections.PathCollection at 0x7f78d3f7c7b8>"
      ]
     },
     "execution_count": 173,
     "metadata": {},
     "output_type": "execute_result"
    },
    {
     "data": {
      "image/png": "[encoded data removed]",
      "text/plain": [
       "<Figure size 432x288 with 1 Axes>"
      ]
     },
     "metadata": {},
     "output_type": "display_data"
    }
   ],
   "source": [
    "import matplotlib.pyplot as plt\n",
    "import pylab\n",
    "pylab.scatter(X1_points, X2_points, c=y)"
   ]
  },
  {
   "cell_type": "markdown",
   "metadata": {},
   "source": [
    "### Estimating the quality of the reduction"
   ]
  },
  {
   "cell_type": "markdown",
   "metadata": {},
   "source": [
    "We want to have a metric number conveying the *quality* of the PCA. In other words what percentage of variance is retained in the reduced representation. The first step of this estimation is to reconstruct our data from reduced representation, and then usting simple square root distance estimate the percentage. \n",
    "\n",
    "First, let's focus on reconstructing our data. In order to do this, we follow a simple matrix multiplication:\n",
    "\n",
    "$$ X_{approx} = u_{reduce} \\cdot Z \\approx X_{original}$$"
   ]
  },
  {
   "cell_type": "code",
   "execution_count": 174,
   "metadata": {},
   "outputs": [],
   "source": [
    "X_reconstructed = np.dot(Z, u_reduce.T)"
   ]
  },
  {
   "cell_type": "markdown",
   "metadata": {},
   "source": [
    "Just checking if the matrices have the same sizes"
   ]
  },
  {
   "cell_type": "code",
   "execution_count": 175,
   "metadata": {},
   "outputs": [
    {
     "data": {
      "text/plain": [
       "True"
      ]
     },
     "execution_count": 175,
     "metadata": {},
     "output_type": "execute_result"
    }
   ],
   "source": [
    "X_reconstructed.shape==X.shape"
   ]
  },
  {
   "cell_type": "markdown",
   "metadata": {},
   "source": [
    "We want our reduction (a.k.a. projection) to minimize averaged square error projection erro:\n",
    "\n",
    "$$ \\frac{1}{m} \\Sigma^{m}_{i=1} || x^{(i)} - x_{approx}^{(i)}  ||^2  $$\n",
    "\n",
    "The total variation in the data is given by:\n",
    "\n",
    "$$ \\frac{1}{m} \\Sigma^{m}_{i=1}  ||x^{(i)}||^2 $$\n",
    "\n",
    "\n",
    "Now, we can divide the former by the latter. The smaller the number the more variance retained:\n",
    "\n",
    "$$ \\frac{\\frac{1}{m} \\Sigma^{m}_{i=1} || x^{(i)} - x_{approx}^{(i)}  ||^2}{\\frac{1}{m} \\Sigma^{m}_{i=1}  ||x^{(i)}||^2}  \\leq 0.01 = 1\\% $$\n",
    "\n",
    "Usually the very good reduction loses small amount of variance. The amount of retained variance is just `1` minus the above:\n",
    "\n",
    "$$ 1 -  \\frac{\\frac{1}{m} \\Sigma^{m}_{i=1} || x^{(i)} - x_{approx}^{(i)}  ||^2}{\\frac{1}{m} \\Sigma^{m}_{i=1}  ||x^{(i)}||^2}  \\geq 99\\% $$\n",
    "\n",
    "And this is the exact thing we are going to compute for our 2D projection. Remember that we used PCA for a *normalized* dataset, therefore we have to compare the reconstructed version to a normalized. The other way would be to compare original data with reconstructed data corrected for its initial mean and variance."
   ]
  },
  {
   "cell_type": "code",
   "execution_count": 176,
   "metadata": {},
   "outputs": [
    {
     "data": {
      "text/plain": [
       "74.32962581712485"
      ]
     },
     "execution_count": 176,
     "metadata": {},
     "output_type": "execute_result"
    }
   ],
   "source": [
    "(1- (np.sum(np.power((X_reconstructed-X_norm_all),2))/np.sum(np.power((X_norm_all),2))))*100"
   ]
  },
  {
   "cell_type": "markdown",
   "metadata": {},
   "source": [
    "So our 2D reduction (from 6D dataset) contains around $74\\%$ of the data variance. Not ideal, but still not bad. In highly complex datasets, such as taxonomic profiles of the gut microbiota from several patients, the dimensionalities of microbial distances on the tree of life reach hundreds if not thousands, and PCoA plots (*a slight variation*) sometimes retain around $13\\% - 50\\%$ of our data. \n",
    "\n"
   ]
  },
  {
   "cell_type": "markdown",
   "metadata": {},
   "source": [
    "But nothing is lost! We can also successfuly visualize our dataset in 3 dimensions. So I am going to repeat some of the above computations in one shot, the difference is only `K=3` and the variable names:"
   ]
  },
  {
   "cell_type": "code",
   "execution_count": 184,
   "metadata": {},
   "outputs": [
    {
     "data": {
      "text/plain": [
       "91.057557559864"
      ]
     },
     "execution_count": 184,
     "metadata": {},
     "output_type": "execute_result"
    }
   ],
   "source": [
    "K_new=3\n",
    "u_reduce_3D = u[:,:K_new]\n",
    "Z_3D = np.zeros((X_norm_all.shape[0],K_new))\n",
    "\n",
    "for i in range(0,X_norm_all.shape[0]): #going over each example and reducing the dimensionality\n",
    "    Z_3D[i,:] = np.dot(u_reduce_3D.T,X_norm_all[i])\n",
    "    \n",
    "X1_3d= Z_3D[:,0]\n",
    "X2_3d=Z_3D[:,1]\n",
    "X3_3d=Z_3D[:,2]\n",
    "\n",
    "X_reconstructed_3D = np.dot(Z_3D, u_reduce_3D.T)\n",
    "assert(X_reconstructed_3D.shape==X.shape)\n",
    "\n",
    "(1- (np.sum(np.power((X_reconstructed_3D-X_norm_all),2))/np.sum(np.power((X_norm_all),2))))*100"
   ]
  },
  {
   "cell_type": "markdown",
   "metadata": {},
   "source": [
    "$\\approx 91\\%$! This is certainly more satisfying than 2D projection. Let's plot this using matlab:"
   ]
  },
  {
   "cell_type": "code",
   "execution_count": 185,
   "metadata": {},
   "outputs": [
    {
     "data": {
      "text/plain": [
       "<mpl_toolkits.mplot3d.art3d.Path3DCollection at 0x7f78d36c4278>"
      ]
     },
     "execution_count": 185,
     "metadata": {},
     "output_type": "execute_result"
    },
    {
     "data": {
      "image/png": "[encoded data removed]",
      "text/plain": [
       "<Figure size 432x288 with 1 Axes>"
      ]
     },
     "metadata": {},
     "output_type": "display_data"
    }
   ],
   "source": [
    "from mpl_toolkits.mplot3d import Axes3D\n",
    "fig = plt.figure()\n",
    "ax = fig.add_subplot(111, projection='3d')\n",
    "ax.scatter(xs=X1_3d, ys=X2_3d, zs=X3_3d,c=y)"
   ]
  },
  {
   "cell_type": "markdown",
   "metadata": {},
   "source": [
    "Unfortunatley, its not interactive. That's why I prefer plotly:"
   ]
  },
  {
   "cell_type": "code",
   "execution_count": 186,
   "metadata": {},
   "outputs": [
    {
     "data": {
      "text/html": [
       "<iframe id=\"igraph\" scrolling=\"no\" style=\"border:none;\" seamless=\"seamless\" src=\"https://plot.ly/~vaxherra/32.embed\" height=\"525px\" width=\"100%\"></iframe>"
      ],
      "text/plain": [
       "<plotly.tools.PlotlyDisplay object>"
      ]
     },
     "execution_count": 186,
     "metadata": {},
     "output_type": "execute_result"
    }
   ],
   "source": [
    "import plotly as py\n",
    "API_key=\"NotAvailable\" #change this for your purposes\n",
    "py.tools.set_credentials_file(username='username', api_key=API_key)\n",
    "\n",
    "import plotly.plotly as py\n",
    "import plotly.tools as plotly_tools\n",
    "import plotly.graph_objs as go\n",
    "from plotly.graph_objs import *\n",
    "\n",
    "py.sign_in(\"vaxherra\", API_key)\n",
    "\n",
    "#import plotly.plotly as py\n",
    "\n",
    "\n",
    "import numpy as np\n",
    "\n",
    "trace = go.Scatter3d(\n",
    "    x=X1_3d,\n",
    "    y=X2_3d,\n",
    "    z=X3_3d,\n",
    "    mode='markers',\n",
    "    marker=dict(\n",
    "        size=12,\n",
    "        color=y,                # set color to an array/list of desired values\n",
    "        colorscale='Viridis',   # choose a colorscale\n",
    "        opacity=0.8\n",
    "    )\n",
    ")\n",
    "\n",
    "data = [trace]\n",
    "layout = go.Layout(\n",
    "    margin=dict(\n",
    "        l=0,\n",
    "        r=0,\n",
    "        b=0,\n",
    "        t=0\n",
    "    )\n",
    ")\n",
    "fig = go.Figure(data=data, layout=layout)\n",
    "py.iplot(fig, filename='3d-scatter-colorscale')"
   ]
  },
  {
   "cell_type": "markdown",
   "metadata": {},
   "source": [
    "Now we can more clearly see that there seem to be a clear distinction between non-anomalous (purple, *eqqplant-like color*) and anomalous (yellow, *butter-like color*). However, there are some non-anomalous examples that one might think '*shouldn't*' be there. Its just nature of the data, or rather its biological character, where generalizations don't always hold for all subjects. In future our model might predict for such *anomalous* 'negative' examples a suggestion to put them into more thorought screening, and there is nothing wrong with that. Compared to the majority, they indeed seem 'anomalous', so why not test then? Visualizations often help us to see how our model might classify some examples wrongly.\n"
   ]
  }
 ],
 "metadata": {
  "kernelspec": {
   "display_name": "Python 3",
   "language": "python",
   "name": "python3"
  },
  "language_info": {
   "codemirror_mode": {
    "name": "ipython",
    "version": 3
   },
   "file_extension": ".py",
   "mimetype": "text/x-python",
   "name": "python",
   "nbconvert_exporter": "python",
   "pygments_lexer": "ipython3",
   "version": "3.6.4"
  }
 },
 "nbformat": 4,
 "nbformat_minor": 2
}
